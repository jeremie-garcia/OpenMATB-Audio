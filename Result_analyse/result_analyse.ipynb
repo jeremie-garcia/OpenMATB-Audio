{
 "cells": [
  {
   "cell_type": "code",
   "execution_count": 1,
   "metadata": {},
   "outputs": [],
   "source": [
    "import numpy as np\n",
    "import matplotlib.pyplot as plt\n",
    "import pandas as pd\n",
    "import math"
   ]
  },
  {
   "cell_type": "code",
   "execution_count": 2,
   "metadata": {},
   "outputs": [],
   "source": [
    "list_file = ['C:/Users/zmdgd/source/repos/OpenMATB/Logs/sc_4_1.log',\n",
    "             'C:/Users/zmdgd/source/repos/OpenMATB/Logs/sc_4_2.log',\n",
    "             'C:/Users/zmdgd/source/repos/OpenMATB/Logs/sc_4_3.log',\n",
    "             'C:/Users/zmdgd/source/repos/OpenMATB/Logs/sc_4_4.log',\n",
    "             'C:/Users/zmdgd/source/repos/OpenMATB/Logs/sc_4_5.log',\n",
    "             'C:/Users/zmdgd/source/repos/OpenMATB/Logs/sc_4_6.log' ]"
   ]
  },
  {
   "cell_type": "code",
   "execution_count": 3,
   "metadata": {},
   "outputs": [],
   "source": [
    "cursor=[[],\n",
    "               [],\n",
    "               [],\n",
    "               [],\n",
    "               [],\n",
    "               []]  \n",
    "\n",
    "failure = [[],\n",
    "               [],\n",
    "               [],\n",
    "               [],\n",
    "               [],\n",
    "               []] "
   ]
  },
  {
   "cell_type": "code",
   "execution_count": 4,
   "metadata": {},
   "outputs": [],
   "source": [
    "id = 0\n",
    "\n",
    "for log in list_file:\n",
    "    result = pd.read_table(log)\n",
    "    list = result.to_numpy()\n",
    "    for i in range(len(list)):\n",
    "        if list[i][5] == 'X':\n",
    "            cursor[id].append([abs(float(list[i][6])),abs(float(list[i+1][6])),\n",
    "                               math.sqrt((float(list[i][6])**2)+(float(list[i+1][6])**2))])\n",
    "        if  list[i][3] == 'SCENARIO'or list[i][3] == 'INPUT'or list[i][3] == 'ACTION':\n",
    "            failure[id].append(list[i])   \n",
    "    id+=1    "
   ]
  },
  {
   "cell_type": "code",
   "execution_count": 5,
   "metadata": {},
   "outputs": [
    {
     "name": "stdout",
     "output_type": "stream",
     "text": [
      "Experiment index: 1     Total sample: 9369     Performance(In-range percentage): 0.496\n",
      "Experiment index: 2     Total sample: 4558     Performance(In-range percentage): 0.524\n",
      "Experiment index: 3     Total sample: 4598     Performance(In-range percentage): 0.555\n",
      "Experiment index: 4     Total sample: 4598     Performance(In-range percentage): 0.485\n",
      "Experiment index: 5     Total sample: 4560     Performance(In-range percentage): 0.693\n",
      "Experiment index: 6     Total sample: 4555     Performance(In-range percentage): 0.686\n"
     ]
    }
   ],
   "source": [
    "for i in range(6):\n",
    "    nc = 0;\n",
    "    for j in range(len(cursor[i])):\n",
    "        if cursor[i][j][0]>0.2 or cursor[i][j][1]>0.2:\n",
    "            nc+=1\n",
    "    print('Experiment index:',i+1,'    Total sample:',len(cursor[i]),\"    Performance(In-range percentage): %.*f\" % (3,1-nc/len(cursor[i])))"
   ]
  },
  {
   "cell_type": "code",
   "execution_count": 6,
   "metadata": {},
   "outputs": [
    {
     "data": {
      "text/plain": [
       "[array(['21:03:19.321061', nan, 'MAIN', 'SCENARIO', 'SYSMON_RIGHT',\n",
       "        'LIGHTS-2-FAILURE', 'True'], dtype=object),\n",
       " array(['21:03:19.321061', nan, 'MAIN', 'SCENARIO', 'SYSMON_RIGHT',\n",
       "        'LIGHTS-1-FAILURE', 'True'], dtype=object),\n",
       " array(['21:03:20.362387', nan, 'MAIN', 'INPUT', 'KEY_RELEASE', '51', nan],\n",
       "       dtype=object),\n",
       " array(['21:03:20.363354', nan, 'SYSMON_RIGHT', 'ACTION', '3', 'HIT', nan],\n",
       "       dtype=object),\n",
       " array(['21:03:20.364352', nan, 'SYSMON_RIGHT', 'ACTION', nan, 'FA', nan],\n",
       "       dtype=object),\n",
       " array(['21:03:21.015891', nan, 'MAIN', 'INPUT', 'KEY_RELEASE', '52', nan],\n",
       "       dtype=object),\n",
       " array(['21:03:21.016888', nan, 'SYSMON_RIGHT', 'ACTION', '4', 'HIT', nan],\n",
       "       dtype=object),\n",
       " array(['21:03:26.319678', nan, 'MAIN', 'SCENARIO', 'SYSMON_LEFT',\n",
       "        'LIGHTS-2-FAILURE', 'True'], dtype=object),\n",
       " array(['21:03:27.145764', nan, 'MAIN', 'INPUT', 'KEY_RELEASE', '50', nan],\n",
       "       dtype=object),\n",
       " array(['21:03:27.146762', nan, 'SYSMON_LEFT', 'ACTION', '2', 'HIT', nan],\n",
       "       dtype=object),\n",
       " array(['21:03:53.321540', nan, 'MAIN', 'SCENARIO', 'SYSMON_LEFT',\n",
       "        'LIGHTS-2-FAILURE', 'True'], dtype=object),\n",
       " array(['21:03:54.059772', nan, 'MAIN', 'INPUT', 'KEY_RELEASE', '50', nan],\n",
       "       dtype=object),\n",
       " array(['21:03:54.060769', nan, 'SYSMON_LEFT', 'ACTION', '2', 'HIT', nan],\n",
       "       dtype=object)]"
      ]
     },
     "execution_count": 6,
     "metadata": {},
     "output_type": "execute_result"
    }
   ],
   "source": [
    "failure[3]"
   ]
  },
  {
   "cell_type": "code",
   "execution_count": 7,
   "metadata": {},
   "outputs": [
    {
     "data": {
      "text/plain": [
       "array(['20:59:24.348180', nan, 'MAIN', 'SCENARIO', 'SYSMON_LEFT',\n",
       "       'LIGHTS-2-FAILURE', 'True'], dtype=object)"
      ]
     },
     "execution_count": 7,
     "metadata": {},
     "output_type": "execute_result"
    }
   ],
   "source": [
    "failure[2][2]"
   ]
  },
  {
   "cell_type": "code",
   "execution_count": 8,
   "metadata": {},
   "outputs": [
    {
     "data": {
      "text/plain": [
       "'52'"
      ]
     },
     "execution_count": 8,
     "metadata": {},
     "output_type": "execute_result"
    }
   ],
   "source": [
    "failure[0][0][0][3:5]"
   ]
  },
  {
   "cell_type": "code",
   "execution_count": 9,
   "metadata": {},
   "outputs": [
    {
     "name": "stdout",
     "output_type": "stream",
     "text": [
      "Experiment Index: 0\n",
      "Reaction time:3.474\n",
      "Reaction time:19.539\n",
      "Reaction time:33.654\n",
      "_________\n",
      "Experiment Index: 1\n",
      "Reaction time:1.045\n",
      "Reaction time:3.154\n",
      "Reaction time:30.178\n",
      "_________\n",
      "Experiment Index: 2\n",
      "Reaction time:7.880\n",
      "Reaction time:7.200\n",
      "Reaction time:-3569.833\n",
      "_________\n",
      "Experiment Index: 3\n",
      "Reaction time:1.041\n",
      "Reaction time:0.653\n",
      "Reaction time:6.129\n",
      "_________\n",
      "Experiment Index: 4\n",
      "Reaction time:0.915\n",
      "Reaction time:0.811\n",
      "Reaction time:0.714\n",
      "_________\n",
      "Experiment Index: 5\n",
      "Reaction time:0.998\n",
      "Reaction time:0.256\n",
      "Reaction time:0.749\n",
      "_________\n"
     ]
    }
   ],
   "source": [
    "for i in range(6):\n",
    "    print('Experiment Index:',i)\n",
    "    for j in range(3):\n",
    "        t1 = float(failure[i][3*j][0][6:20])+float(failure[i][3*j][0][3:5])*60\n",
    "        t2 = float(failure[i][3*j+2][0][6:20])+float(failure[i][3*j+2][0][3:5])*60\n",
    "        dt=t2-t1\n",
    "        print('Reaction time:%.*f' % (3,dt))\n",
    "    print('_________')"
   ]
  },
  {
   "cell_type": "code",
   "execution_count": null,
   "metadata": {},
   "outputs": [],
   "source": []
  }
 ],
 "metadata": {
  "kernelspec": {
   "display_name": "Python 3",
   "language": "python",
   "name": "python3"
  },
  "language_info": {
   "codemirror_mode": {
    "name": "ipython",
    "version": 3
   },
   "file_extension": ".py",
   "mimetype": "text/x-python",
   "name": "python",
   "nbconvert_exporter": "python",
   "pygments_lexer": "ipython3",
   "version": "3.7.7"
  }
 },
 "nbformat": 4,
 "nbformat_minor": 4
}
