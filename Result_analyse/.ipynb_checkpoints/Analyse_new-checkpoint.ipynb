{
 "cells": [
  {
   "cell_type": "code",
   "execution_count": 2,
   "metadata": {},
   "outputs": [],
   "source": [
    "import numpy as np\n",
    "import matplotlib.pyplot as plt\n",
    "import pandas as pd\n",
    "import math"
   ]
  },
  {
   "cell_type": "code",
   "execution_count": 3,
   "metadata": {},
   "outputs": [],
   "source": [
    "path = 'C:/Users/zmdgd/source/repos/OpenMATB/Logs/sc_'\n",
    "\n",
    "def getfile(i,j):\n",
    "    return path+str(i)+'_'+str(j)+'.log'"
   ]
  },
  {
   "cell_type": "code",
   "execution_count": 9,
   "metadata": {},
   "outputs": [
    {
     "name": "stdout",
     "output_type": "stream",
     "text": [
      "Result of Group:  1\n",
      "Experiment index: 1     Total sample: 4558     Performance(In-range percentage): 0.676\n",
      "Experiment index: 2     Total sample: 4562     Performance(In-range percentage): 0.749\n",
      "Experiment index: 3     Total sample: 4594     Performance(In-range percentage): 0.606\n",
      "Experiment index: 4     Total sample: 4599     Performance(In-range percentage): 0.721\n",
      "Experiment index: 5     Total sample: 4557     Performance(In-range percentage): 0.585\n",
      "Experiment index: 6     Total sample: 4558     Performance(In-range percentage): 0.664\n",
      "_________\n",
      "Result of Group:  2\n",
      "Experiment index: 1     Total sample: 4564     Performance(In-range percentage): 0.734\n",
      "Experiment index: 2     Total sample: 4600     Performance(In-range percentage): 0.789\n",
      "Experiment index: 3     Total sample: 4559     Performance(In-range percentage): 0.799\n",
      "Experiment index: 4     Total sample: 4558     Performance(In-range percentage): 0.616\n",
      "Experiment index: 5     Total sample: 4597     Performance(In-range percentage): 0.629\n",
      "Experiment index: 6     Total sample: 4559     Performance(In-range percentage): 0.619\n",
      "_________\n",
      "Result of Group:  3\n",
      "Experiment index: 1     Total sample: 4598     Performance(In-range percentage): 0.724\n",
      "Experiment index: 2     Total sample: 4565     Performance(In-range percentage): 0.494\n",
      "Experiment index: 3     Total sample: 4561     Performance(In-range percentage): 0.782\n",
      "Experiment index: 4     Total sample: 4564     Performance(In-range percentage): 0.508\n",
      "Experiment index: 5     Total sample: 4560     Performance(In-range percentage): 0.646\n",
      "Experiment index: 6     Total sample: 4597     Performance(In-range percentage): 0.575\n",
      "_________\n",
      "Result of Group:  4\n",
      "Experiment index: 1     Total sample: 9369     Performance(In-range percentage): 0.496\n",
      "Experiment index: 2     Total sample: 4558     Performance(In-range percentage): 0.524\n",
      "Experiment index: 3     Total sample: 4598     Performance(In-range percentage): 0.555\n",
      "Experiment index: 4     Total sample: 4598     Performance(In-range percentage): 0.485\n",
      "Experiment index: 5     Total sample: 4560     Performance(In-range percentage): 0.693\n",
      "Experiment index: 6     Total sample: 4555     Performance(In-range percentage): 0.686\n",
      "_________\n",
      "Result of Group:  5\n",
      "Experiment index: 1     Total sample: 4588     Performance(In-range percentage): 0.623\n",
      "Experiment index: 2     Total sample: 4627     Performance(In-range percentage): 0.717\n",
      "Experiment index: 3     Total sample: 4584     Performance(In-range percentage): 0.704\n",
      "Experiment index: 4     Total sample: 4588     Performance(In-range percentage): 0.822\n",
      "Experiment index: 5     Total sample: 4627     Performance(In-range percentage): 0.836\n",
      "Experiment index: 6     Total sample: 4585     Performance(In-range percentage): 0.853\n",
      "_________\n",
      "Result of Group:  6\n",
      "Experiment index: 1     Total sample: 4597     Performance(In-range percentage): 0.584\n",
      "Experiment index: 2     Total sample: 4554     Performance(In-range percentage): 0.658\n",
      "Experiment index: 3     Total sample: 4564     Performance(In-range percentage): 0.619\n",
      "Experiment index: 4     Total sample: 4598     Performance(In-range percentage): 0.699\n",
      "Experiment index: 5     Total sample: 4557     Performance(In-range percentage): 0.662\n",
      "Experiment index: 6     Total sample: 4596     Performance(In-range percentage): 0.669\n",
      "_________\n"
     ]
    }
   ],
   "source": [
    "record = []\n",
    "\n",
    "for k in range(6):\n",
    "    cursor=[[],\n",
    "               [],\n",
    "               [],\n",
    "               [],\n",
    "               [],\n",
    "               []]  \n",
    "\n",
    "    failure = [[],\n",
    "               [],\n",
    "               [],\n",
    "               [],\n",
    "               [],\n",
    "               []] \n",
    "    \n",
    "    id = 0\n",
    "\n",
    "    for q in range(6):\n",
    "        result = pd.read_table(getfile(k+1,q+1))\n",
    "        list = result.to_numpy()\n",
    "        for i in range(len(list)):\n",
    "            if list[i][5] == 'X':\n",
    "                cursor[id].append([abs(float(list[i][6])),abs(float(list[i+1][6])),\n",
    "                               math.sqrt((float(list[i][6])**2)+(float(list[i+1][6])**2))])\n",
    "            else\n",
    "                failure[id].append(list[i])   \n",
    "        id+=1  \n",
    "\n",
    "   \n",
    "    print('Result of Group: ',k+1)\n",
    "    \n",
    "    for i in range(6):\n",
    "        nc = 0;\n",
    "        for j in range(len(cursor[i])):\n",
    "            if cursor[i][j][0]>0.2 or cursor[i][j][1]>0.2:\n",
    "                nc+=1\n",
    "        print('Experiment index:',i+1,'    Total sample:',len(cursor[i]),\n",
    "              \"    Performance(In-range percentage): %.*f\" % (3,1-nc/len(cursor[i])))\n",
    "\n",
    "    print('_________')\n",
    "        \n",
    "    record.append([cursor,failure])"
   ]
  },
  {
   "cell_type": "code",
   "execution_count": 7,
   "metadata": {},
   "outputs": [
    {
     "data": {
      "text/plain": [
       "array([['SCENARIO', 'FILENAME', 'sc_1_6.txt'],\n",
       "       ['SCREENSIZE', 'WIDTH', '1536.0'],\n",
       "       ['SCREENSIZE', 'HEIGHT', '864.0'],\n",
       "       ...,\n",
       "       ['SCHEDULING', 'STOP', nan],\n",
       "       [nan, 'END', nan],\n",
       "       [nan, 'END', nan]], dtype=object)"
      ]
     },
     "execution_count": 7,
     "metadata": {},
     "output_type": "execute_result"
    }
   ],
   "source": [
    "list"
   ]
  },
  {
   "cell_type": "code",
   "execution_count": null,
   "metadata": {},
   "outputs": [],
   "source": []
  }
 ],
 "metadata": {
  "kernelspec": {
   "display_name": "Python 3",
   "language": "python",
   "name": "python3"
  },
  "language_info": {
   "codemirror_mode": {
    "name": "ipython",
    "version": 3
   },
   "file_extension": ".py",
   "mimetype": "text/x-python",
   "name": "python",
   "nbconvert_exporter": "python",
   "pygments_lexer": "ipython3",
   "version": "3.7.7"
  }
 },
 "nbformat": 4,
 "nbformat_minor": 4
}
