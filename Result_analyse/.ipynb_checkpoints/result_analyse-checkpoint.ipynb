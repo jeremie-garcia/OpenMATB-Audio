{
 "cells": [
  {
   "cell_type": "code",
   "execution_count": 2,
   "metadata": {},
   "outputs": [],
   "source": [
    "import numpy as np\n",
    "import matplotlib.pyplot as plt\n",
    "import pandas as pd\n",
    "import math"
   ]
  },
  {
   "cell_type": "code",
   "execution_count": 3,
   "metadata": {},
   "outputs": [],
   "source": [
    "list_file = ['C:/Users/zmdgd/source/repos/OpenMATB/Logs/sc_4_1.log',\n",
    "             'C:/Users/zmdgd/source/repos/OpenMATB/Logs/sc_4_2.log',\n",
    "             'C:/Users/zmdgd/source/repos/OpenMATB/Logs/sc_4_3.log',\n",
    "             'C:/Users/zmdgd/source/repos/OpenMATB/Logs/sc_4_4.log',\n",
    "             'C:/Users/zmdgd/source/repos/OpenMATB/Logs/sc_4_5.log',\n",
    "             'C:/Users/zmdgd/source/repos/OpenMATB/Logs/sc_4_6.log' ]"
   ]
  },
  {
   "cell_type": "code",
   "execution_count": 4,
   "metadata": {},
   "outputs": [],
   "source": [
    "cursor=[[],\n",
    "               [],\n",
    "               [],\n",
    "               [],\n",
    "               [],\n",
    "               []]  \n",
    "\n",
    "failure = [[],\n",
    "               [],\n",
    "               [],\n",
    "               [],\n",
    "               [],\n",
    "               []] "
   ]
  },
  {
   "cell_type": "code",
   "execution_count": 5,
   "metadata": {},
   "outputs": [],
   "source": [
    "id = 0\n",
    "\n",
    "for log in list_file:\n",
    "    result = pd.read_table(log)\n",
    "    list = result.to_numpy()\n",
    "    for i in range(len(list)):\n",
    "        if list[i][5] == 'X':\n",
    "            cursor[id].append([abs(float(list[i][6])),abs(float(list[i+1][6])),\n",
    "                               math.sqrt((float(list[i][6])**2)+(float(list[i+1][6])**2))])\n",
    "        if  list[i][3] == 'SCENARIO'or list[i][3] == 'INPUT'or list[i][3] == 'ACTION':\n",
    "            failure[id].append(list[i])   \n",
    "    id+=1    "
   ]
  },
  {
   "cell_type": "code",
   "execution_count": 6,
   "metadata": {},
   "outputs": [
    {
     "name": "stdout",
     "output_type": "stream",
     "text": [
      "Experiment index: 1     Total sample: 4546     Performance(In-range percentage): 0.675\n",
      "Experiment index: 2     Total sample: 4587     Performance(In-range percentage): 0.722\n",
      "Experiment index: 3     Total sample: 4552     Performance(In-range percentage): 0.687\n",
      "Experiment index: 4     Total sample: 4564     Performance(In-range percentage): 0.565\n",
      "Experiment index: 5     Total sample: 4592     Performance(In-range percentage): 0.606\n",
      "Experiment index: 6     Total sample: 4554     Performance(In-range percentage): 0.595\n"
     ]
    }
   ],
   "source": [
    "for i in range(6):\n",
    "    nc = 0;\n",
    "    for j in range(len(cursor[i])):\n",
    "        if cursor[i][j][0]>0.2 or cursor[i][j][1]>0.2:\n",
    "            nc+=1\n",
    "    print('Experiment index:',i+1,'    Total sample:',len(cursor[i]),\"    Performance(In-range percentage): %.*f\" % (3,1-nc/len(cursor[i])))"
   ]
  },
  {
   "cell_type": "code",
   "execution_count": 7,
   "metadata": {},
   "outputs": [
    {
     "data": {
      "text/plain": [
       "[array(['11:13:46.578501', nan, 'MAIN', 'SCENARIO', 'SYSMON_LEFT',\n",
       "        'LIGHTS-1-FAILURE', 'True'], dtype=object),\n",
       " array(['11:13:47.319440', nan, 'MAIN', 'INPUT', 'KEY_RELEASE', '49', nan],\n",
       "       dtype=object),\n",
       " array(['11:13:47.320449', nan, 'SYSMON_LEFT', 'ACTION', '1', 'HIT', nan],\n",
       "       dtype=object),\n",
       " array(['11:14:13.579035', nan, 'MAIN', 'SCENARIO', 'SYSMON_LEFT',\n",
       "        'LIGHTS-1-FAILURE', 'True'], dtype=object),\n",
       " array(['11:14:13.579035', nan, 'MAIN', 'SCENARIO', 'SYSMON_LEFT',\n",
       "        'LIGHTS-1-FAILURE', 'True'], dtype=object),\n",
       " array(['11:14:14.307677', nan, 'MAIN', 'INPUT', 'KEY_RELEASE', '49', nan],\n",
       "       dtype=object),\n",
       " array(['11:14:14.308732', nan, 'SYSMON_LEFT', 'ACTION', '1', 'HIT', nan],\n",
       "       dtype=object),\n",
       " array(['11:14:45.578636', nan, 'MAIN', 'SCENARIO', 'SYSMON_RIGHT',\n",
       "        'LIGHTS-2-FAILURE', 'True'], dtype=object),\n",
       " array(['11:14:46.407877', nan, 'MAIN', 'INPUT', 'KEY_RELEASE', '52', nan],\n",
       "       dtype=object),\n",
       " array(['11:14:46.408874', nan, 'SYSMON_RIGHT', 'ACTION', '4', 'HIT', nan],\n",
       "       dtype=object)]"
      ]
     },
     "execution_count": 7,
     "metadata": {},
     "output_type": "execute_result"
    }
   ],
   "source": [
    "failure[3]"
   ]
  },
  {
   "cell_type": "code",
   "execution_count": 53,
   "metadata": {},
   "outputs": [
    {
     "data": {
      "text/plain": [
       "array(['11:11:55.436559', nan, 'SYSMON_RIGHT', 'ACTION', '4', 'HIT', nan],\n",
       "      dtype=object)"
      ]
     },
     "execution_count": 53,
     "metadata": {},
     "output_type": "execute_result"
    }
   ],
   "source": [
    "failure[2][2]"
   ]
  },
  {
   "cell_type": "code",
   "execution_count": 48,
   "metadata": {},
   "outputs": [
    {
     "data": {
      "text/plain": [
       "'07'"
      ]
     },
     "execution_count": 48,
     "metadata": {},
     "output_type": "execute_result"
    }
   ],
   "source": [
    "failure[0][0][0][3:5]"
   ]
  },
  {
   "cell_type": "code",
   "execution_count": 76,
   "metadata": {},
   "outputs": [
    {
     "name": "stdout",
     "output_type": "stream",
     "text": [
      "Experiment Index: 0\n",
      "Reaction time:0.604\n",
      "Reaction time:0.724\n",
      "Reaction time:0.928\n",
      "_________\n",
      "Experiment Index: 1\n",
      "Reaction time:0.917\n",
      "Reaction time:0.774\n",
      "Reaction time:0.969\n",
      "_________\n",
      "Experiment Index: 2\n",
      "Reaction time:0.947\n",
      "Reaction time:0.923\n",
      "Reaction time:0.819\n",
      "_________\n",
      "Experiment Index: 3\n",
      "Reaction time:0.742\n",
      "Reaction time:0.729\n",
      "Reaction time:32.099\n",
      "_________\n",
      "Experiment Index: 4\n",
      "Reaction time:0.811\n",
      "Reaction time:0.700\n",
      "Reaction time:0.928\n",
      "_________\n",
      "Experiment Index: 5\n",
      "Reaction time:0.994\n",
      "Reaction time:1.157\n",
      "Reaction time:0.942\n",
      "_________\n"
     ]
    }
   ],
   "source": [
    "for i in range(6):\n",
    "    print('Experiment Index:',i)\n",
    "    for j in range(3):\n",
    "        t1 = float(failure[i][3*j][0][6:20])+float(failure[i][3*j][0][3:5])*60\n",
    "        t2 = float(failure[i][3*j+2][0][6:20])+float(failure[i][3*j+2][0][3:5])*60\n",
    "        dt=t2-t1\n",
    "        print('Reaction time:%.*f' % (3,dt))\n",
    "    print('_________')"
   ]
  },
  {
   "cell_type": "code",
   "execution_count": null,
   "metadata": {},
   "outputs": [],
   "source": []
  }
 ],
 "metadata": {
  "kernelspec": {
   "display_name": "Python 3",
   "language": "python",
   "name": "python3"
  },
  "language_info": {
   "codemirror_mode": {
    "name": "ipython",
    "version": 3
   },
   "file_extension": ".py",
   "mimetype": "text/x-python",
   "name": "python",
   "nbconvert_exporter": "python",
   "pygments_lexer": "ipython3",
   "version": "3.7.7"
  }
 },
 "nbformat": 4,
 "nbformat_minor": 4
}
